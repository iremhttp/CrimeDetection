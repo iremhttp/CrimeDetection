{
 "cells": [
  {
   "cell_type": "markdown",
   "id": "0eb85f30-a9ca-4809-8cae-cd5973b480a3",
   "metadata": {},
   "source": [
    "# CRIME DETECTION SYSTEM"
   ]
  },
  {
   "cell_type": "markdown",
   "id": "3ba61ce9-65e4-4336-acaf-0564980f6818",
   "metadata": {},
   "source": [
    "## Programming for AI TABA"
   ]
  },
  {
   "cell_type": "code",
   "execution_count": null,
   "id": "ac3618db-3935-44d5-bf59-0ee6bc1455b3",
   "metadata": {},
   "outputs": [],
   "source": [
    "import pandas as pd\n",
    "import numpy as np\n",
    "import matplotlib.pyplot as plt\n",
    "import seaborn as sns\n",
    "from wordcloud import WordCloud\n",
    "import folium\n",
    "from folium.plugins import HeatMap\n",
    "import pymysql\n",
    "from sklearn.model_selection import train_test_split, cross_val_score\n",
    "from sklearn.tree import DecisionTreeClassifier\n",
    "from sklearn.ensemble import RandomForestClassifier\n",
    "from sklearn.metrics import accuracy_score, classification_report\n",
    "from sklearn.preprocessing import StandardScaler, OneHotEncoder\n",
    "from sklearn.compose import ColumnTransformer\n",
    "from sklearn.pipeline import Pipeline"
   ]
  },
  {
   "cell_type": "markdown",
   "id": "a0beacaa",
   "metadata": {},
   "source": [
    "### DB Connection"
   ]
  },
  {
   "cell_type": "code",
   "execution_count": null,
   "id": "c8d68085",
   "metadata": {},
   "outputs": [],
   "source": [
    "def db(): \n",
    "    host = \"localhost\"\n",
    "    user = \"root\"\n",
    "    password = \"root\"\n",
    "    database = \"crime_detection\"\n",
    "\n",
    "    return pymysql.connect(host=host, user=user, password=password, db=database)"
   ]
  },
  {
   "cell_type": "markdown",
   "id": "ebbeb79a-e215-4178-bbc8-421a83bdc563",
   "metadata": {},
   "source": [
    "### Load Data"
   ]
  },
  {
   "cell_type": "code",
   "execution_count": null,
   "id": "dbe9ee48",
   "metadata": {},
   "outputs": [],
   "source": [
    "\n",
    "crime_data = None"
   ]
  },
  {
   "cell_type": "code",
   "execution_count": null,
   "id": "6a16d315",
   "metadata": {},
   "outputs": [],
   "source": [
    "def load_by_csv():\n",
    "    global crime_data\n",
    "    raw_data = pd.read_csv('Crime_Data_from_2010_to_2019.csv')\n",
    "    #If the dataset read from cvs file, change the name of the columns to complete the data cleaning\n",
    "    raw_data.rename(columns={\n",
    "    'DR_NO': 'dr_no',\n",
    "    'Date Rptd': 'date_rptd',\n",
    "    'DATE OCC': 'date_occ',\n",
    "    'TIME OCC': 'time_occ',\n",
    "    'AREA ': 'area',\n",
    "    'AREA NAME': 'area_name',\n",
    "    'Rpt Dist No': 'rpt_dist_no',\n",
    "    'Part 1-2': 'part_1-2',\n",
    "    'Crm Cd': 'crm_cd',\n",
    "    'Crm Cd Desc': 'crm_cd_desc',\n",
    "    'Mocodes': 'mocodes',\n",
    "    'Vict Age': 'vict_age',\n",
    "    'Vict Sex': 'vict_sex',\n",
    "    'Vict Descent': 'vict_descent',\n",
    "    'Premis Cd': 'premis_cd',\n",
    "    'Premis Desc': 'premis_desc',\n",
    "    'Weapon Used Cd': 'weapon_used_cd',\n",
    "    'Weapon Desc': 'weapon_desc',\n",
    "    'Status': 'status',\n",
    "    'Status Desc': 'status_desc',\n",
    "    'Crm Cd 1': 'crm_cd_1',\n",
    "    'Crm Cd 2': 'crm_cd_2',\n",
    "    'Crm Cd 3': 'crm_cd_3',\n",
    "    'Crm Cd 4': 'crm_cd_4',\n",
    "    'LOCATION': 'location',\n",
    "    'Cross Street': 'cross_street',\n",
    "    'LAT': 'lat',\n",
    "    'LON': 'lon',              \n",
    "    },inplace= True)\n",
    "    \n",
    "    crime_data = raw_data[[\n",
    "        'date_rptd',\n",
    "        'date_occ',\n",
    "        'time_occ',\n",
    "        'area',\n",
    "        'area_name',\n",
    "        'crm_cd',\n",
    "        'crm_cd_desc',\n",
    "        'vict_age',\n",
    "        'vict_sex',\n",
    "        'vict_descent',\n",
    "        'premis_cd',\n",
    "        'premis_desc',\n",
    "        'weapon_used_cd',\n",
    "        'weapon_desc',\n",
    "        'location',\n",
    "        'lat',\n",
    "        'lon' \n",
    "    ]]"
   ]
  },
  {
   "cell_type": "code",
   "execution_count": null,
   "id": "48efdcba",
   "metadata": {},
   "outputs": [],
   "source": [
    "def load_by_db():\n",
    "    global crime_data\n",
    "    connection = db()\n",
    "    sql_query = \"\"\"SELECT\n",
    "    'date_rptd',\n",
    "    'date_occ',\n",
    "    'time_occ',\n",
    "    'area',\n",
    "    'area_name',\n",
    "    'crm_cd',\n",
    "    'crm_cd_desc',\n",
    "    'vict_age',\n",
    "    'vict_sex',\n",
    "    'vict_descent',\n",
    "    'premis_cd',\n",
    "    'premis_desc',\n",
    "    'weapon_used_cd',\n",
    "    'weapon_desc',\n",
    "    'location',\n",
    "    'lat',\n",
    "    'lon'\n",
    "    FROM raw_data\"\"\"\n",
    "    crime_data = pd.read_sql(sql_query, connection)\n",
    "    connection.close()"
   ]
  },
  {
   "cell_type": "code",
   "execution_count": null,
   "id": "3b849d36",
   "metadata": {},
   "outputs": [],
   "source": [
    "source_type = 'CSV'\n",
    "if source_type == 'DB':\n",
    "    print(\"DB...\")\n",
    "    load_by_db()\n",
    "\n",
    "elif source_type == 'CSV':\n",
    "    print(\"CSV...\")\n",
    "    load_by_csv()\n",
    "else:\n",
    "    raise Exception('Chose a data source (\"DB\" or \"CSV\")')"
   ]
  },
  {
   "cell_type": "code",
   "execution_count": null,
   "id": "e0f8823f",
   "metadata": {},
   "outputs": [],
   "source": [
    "crime_data.head()"
   ]
  },
  {
   "cell_type": "code",
   "execution_count": null,
   "id": "e88c752c",
   "metadata": {},
   "outputs": [],
   "source": [
    "crime_data.tail()"
   ]
  },
  {
   "cell_type": "markdown",
   "id": "4b39ca86",
   "metadata": {},
   "source": [
    "Dataframe columns name"
   ]
  },
  {
   "cell_type": "code",
   "execution_count": null,
   "id": "211ace75",
   "metadata": {},
   "outputs": [],
   "source": [
    "print(crime_data.columns)"
   ]
  },
  {
   "cell_type": "markdown",
   "id": "0a50e03f",
   "metadata": {},
   "source": [
    "Dataframe columns info"
   ]
  },
  {
   "cell_type": "code",
   "execution_count": null,
   "id": "0d7fddc2",
   "metadata": {},
   "outputs": [],
   "source": [
    "crime_data.info()"
   ]
  },
  {
   "cell_type": "markdown",
   "id": "2479a7bc-5000-49b6-be36-5dd7fdfe21e0",
   "metadata": {},
   "source": [
    "The columns of the dataset are:\n",
    "1. DR_NO: Report number for the incident (int64)\n",
    "2. Date Rptd: Date the incident was reported (object, might need to be converted to a datetime format)\n",
    "3. DATE OCC: Date of occurrence of the incident (object, might need to be converted to a datetime format)\n",
    "4. TIME OCC: Time of occurrence of the incident (int64)\n",
    "5. AREA: Area code related to the incident (int64)\n",
    "6. AREA NAME: Name of the area related to the incident (object)\n",
    "7. Rpt Dist No: Report district number (int64)\n",
    "8. Part 1-2: Classification of the incident (int64)\n",
    "9. Crm Cd: Crime code (int64)\n",
    "10. Crm Cd Desc: Description of the crime code (object)\n",
    "11. Mocodes: Modus operandi codes (object)\n",
    "12. Vict Age: Age of the victim (int64)\n",
    "13. Vict Sex: Sex of the victim (object)\n",
    "14. Vict Descent: Descent of the victim (object)\n",
    "15. Premis Cd: Premises code (float64)\n",
    "16. Premis Desc: Description of the premises (object)\n",
    "17. Weapon Used Cd: Weapon code used (float64)\n",
    "18. Weapon Desc: Description of the weapon used (object)\n",
    "19. Status: Status of the incident (object)\n",
    "20. Status Desc: Description of the status (object)\n",
    "21. Crm Cd 1-4: Additional crime codes (float64)\n",
    "22. LOCATION: Location of the incident (object)\n",
    "23. Cross Street: Cross street of the incident (object)\n",
    "24. LAT: Latitude coordinates (float64)\n",
    "25. LON: Longitude coordinates (float64)"
   ]
  },
  {
   "cell_type": "code",
   "execution_count": null,
   "id": "778c13db-4502-4c93-be32-33f1d6bf025b",
   "metadata": {},
   "outputs": [],
   "source": [
    "crime_data.shape"
   ]
  },
  {
   "cell_type": "code",
   "execution_count": null,
   "id": "583d9a66-0e36-4aeb-b790-5d2e08ae4378",
   "metadata": {},
   "outputs": [],
   "source": [
    "crime_data.isnull().sum()"
   ]
  },
  {
   "cell_type": "markdown",
   "id": "14bd081b-113d-42ce-af7f-946953fd0111",
   "metadata": {},
   "source": [
    "### Preprocessing & Visualisation"
   ]
  },
  {
   "cell_type": "markdown",
   "id": "5df3acb3-ab16-4162-8f8e-23f16e4d8dce",
   "metadata": {},
   "source": [
    "#### Date of Crime Reported and Crime Occurred Converting"
   ]
  },
  {
   "cell_type": "markdown",
   "id": "c4e3456a",
   "metadata": {},
   "source": [
    "Spliting Crime Reported, converting to date time Crime Reported and droping column date_time_rptd"
   ]
  },
  {
   "cell_type": "code",
   "execution_count": null,
   "id": "d577bdbc",
   "metadata": {},
   "outputs": [],
   "source": [
    "crime_data['date_time_rptd'] = crime_data['date_rptd'].str.split()\n",
    "crime_data['date_rptd'] = pd.to_datetime(crime_data['date_time_rptd'].apply(lambda x: x[0]), format=\"%m/%d/%Y\")\n",
    "crime_data['time_rptd'] = crime_data['date_time_rptd'].apply(lambda x: x[1])\n",
    "crime_data.drop(columns=['date_time_rptd'], inplace=True, axis=1)"
   ]
  },
  {
   "cell_type": "markdown",
   "id": "10d7b5f7",
   "metadata": {},
   "source": [
    "Spliting Crime Occurred, converting to date time Crime Occurred and droping column date_time_occ"
   ]
  },
  {
   "cell_type": "code",
   "execution_count": null,
   "id": "04d1aac7",
   "metadata": {},
   "outputs": [],
   "source": [
    "crime_data['date_time_occ'] = crime_data['date_occ'].str.split()\n",
    "crime_data['date_occ'] = pd.to_datetime(crime_data['date_time_occ'].apply(lambda x: x[0]), format=\"%m/%d/%Y\")\n",
    "crime_data['time_occ'] = crime_data['date_time_occ'].apply(lambda x: x[1])\n",
    "crime_data.drop(columns=['date_time_occ'], inplace=True, axis=1)"
   ]
  },
  {
   "cell_type": "markdown",
   "id": "af6423da",
   "metadata": {},
   "source": [
    "Create year field from date_occ"
   ]
  },
  {
   "cell_type": "code",
   "execution_count": null,
   "id": "c34aee02",
   "metadata": {},
   "outputs": [],
   "source": [
    "crime_data['year'] = crime_data['date_occ'].dt.strftime('%Y')"
   ]
  },
  {
   "cell_type": "markdown",
   "id": "dbdc704a",
   "metadata": {},
   "source": [
    "Filter the data for the years 2010 to 2019  \n",
    "Group by year and count the total criminal cases for each year"
   ]
  },
  {
   "cell_type": "code",
   "execution_count": null,
   "id": "3d0461e9-0b58-40bd-8a94-e65356c273f7",
   "metadata": {},
   "outputs": [],
   "source": [
    "crime_by_year = crime_data[(crime_data['year'] >= '2010') & (crime_data['year'] <= '2019')].groupby('year').size()\n",
    "plt.plot(crime_by_year.index, crime_by_year.values, marker='o', linestyle='-', color = 'cadetblue')\n",
    "plt.title('Total Criminal Cases from 2010 to 2019')\n",
    "plt.xlabel('Year')\n",
    "plt.ylabel('Total Criminal Cases')\n",
    "plt.grid(True)\n",
    "plt.xticks(crime_by_year.index)\n",
    "plt.tight_layout()\n",
    "plt.show()"
   ]
  },
  {
   "cell_type": "code",
   "execution_count": null,
   "id": "2d05968b-9dea-4e41-94e6-1494f4fe6d03",
   "metadata": {},
   "outputs": [],
   "source": [
    "crimes_per_month = crime_data['date_occ'].dt.month.value_counts().sort_index()\n",
    "num_months = len(crimes_per_month)\n",
    "palette = sns.color_palette(\"husl\", num_months)\n",
    "plt.figure(figsize=(10, 6))\n",
    "crimes_per_month.plot(kind='bar', color=palette)\n",
    "plt.title('Number of Crimes per Month')\n",
    "plt.xlabel('Month')\n",
    "plt.ylabel('Number of Crimes')\n",
    "plt.xticks(rotation=0)  # Keep x-axis labels vertical\n",
    "plt.show()"
   ]
  },
  {
   "cell_type": "markdown",
   "id": "5ca4e6da-2807-4a74-b26f-f233fc6b50cd",
   "metadata": {},
   "source": [
    "#### Area"
   ]
  },
  {
   "cell_type": "code",
   "execution_count": null,
   "id": "b4e11d0d-3169-4116-9e68-4a3e26776411",
   "metadata": {},
   "outputs": [],
   "source": [
    "# Grouping data by 'AREA NAME' and counting occurrences\n",
    "crime_by_area = crime_data['area_name'].value_counts()\n",
    "crime_by_area.plot(kind='bar', color='yellowgreen')\n",
    "plt.title('Crime Distribution by Area')\n",
    "plt.xlabel('Area')\n",
    "plt.ylabel('Number of Crimes')\n",
    "plt.xticks(rotation=45, ha='right') \n",
    "plt.tight_layout()\n",
    "plt.show()"
   ]
  },
  {
   "cell_type": "markdown",
   "id": "b53a316f-b917-4ecb-a4b6-46c53a43fca0",
   "metadata": {},
   "source": [
    "#### Crime"
   ]
  },
  {
   "cell_type": "code",
   "execution_count": null,
   "id": "8895c165-3d2b-49ef-a3aa-291331c5919a",
   "metadata": {},
   "outputs": [],
   "source": [
    "top_crime_types = crime_data['crm_cd_desc'].value_counts().head(10)\n",
    "\n",
    "plt.figure(figsize=(10, 6))\n",
    "top_crime_types.plot(kind='barh', color='orange')\n",
    "plt.title('Top 10 Crimes in LA')\n",
    "plt.xlabel('Frequency')\n",
    "plt.ylabel('Crime Type')\n",
    "plt.gca().invert_yaxis()\n",
    "plt.show()"
   ]
  },
  {
   "cell_type": "code",
   "execution_count": null,
   "id": "609ced16-d72d-4637-bedd-e4e2951f4f2e",
   "metadata": {},
   "outputs": [],
   "source": [
    "crime_data['weapon_desc'].value_counts()"
   ]
  },
  {
   "cell_type": "code",
   "execution_count": null,
   "id": "73b16a49-b365-45b2-9028-54530f035854",
   "metadata": {},
   "outputs": [],
   "source": [
    "weapons_text = ' '.join(crime_data['weapon_desc'].dropna())\n",
    "wordcloud = WordCloud(width=800, height=400, background_color='white').generate(weapons_text)\n",
    "\n",
    "plt.imshow(wordcloud, interpolation='bilinear')\n",
    "plt.axis('off')\n",
    "plt.title('Word Cloud of Weapons Used')\n",
    "plt.show()"
   ]
  },
  {
   "cell_type": "markdown",
   "id": "b5301968-5966-4fc8-8cd7-f3b9f60962c4",
   "metadata": {},
   "source": [
    "#### Victim"
   ]
  },
  {
   "cell_type": "code",
   "execution_count": null,
   "id": "ab66058b-7cb3-4262-92b0-1c1747b50c29",
   "metadata": {},
   "outputs": [],
   "source": [
    "# Calculate the mean of non-zero positive ages\n",
    "mean_age = np.mean(crime_data.loc[(crime_data['vict_age'] > 0), 'vict_age'])\n",
    "crime_data.loc[(crime_data['vict_age'] <= 0), 'vict_age'] = mean_age\n",
    "crime_data['vict_age'] = crime_data['vict_age'].astype(int)\n",
    "\n",
    "crime_data.head()"
   ]
  },
  {
   "cell_type": "code",
   "execution_count": null,
   "id": "151e50ad-d2bc-4bdd-b8df-0018c62d21db",
   "metadata": {},
   "outputs": [],
   "source": [
    "crime_data['vict_sex'].unique()"
   ]
  },
  {
   "cell_type": "code",
   "execution_count": null,
   "id": "57db8683-5057-4bc9-a0b6-672731dde7cf",
   "metadata": {},
   "outputs": [],
   "source": [
    "crime_data['vict_sex'] = crime_data['vict_sex'].replace('nan', np.nan)"
   ]
  },
  {
   "cell_type": "code",
   "execution_count": null,
   "id": "6fd1491e-b2a1-4258-82c8-97a2271124d9",
   "metadata": {},
   "outputs": [],
   "source": [
    "plt.figure(figsize=(8, 6))\n",
    "crime_data['vict_sex'].value_counts().plot(kind='pie', autopct='%1.1f%%', colors=['skyblue', 'red', 'orange','purple', 'pink','green'])\n",
    "plt.title('Crime Distribution by Sex of Victims')\n",
    "plt.ylabel('')\n",
    "plt.legend(title='Victim Sex', loc='upper right')\n",
    "plt.show()"
   ]
  },
  {
   "cell_type": "code",
   "execution_count": null,
   "id": "abf2a706-dc69-42b4-8700-6910d2cf386c",
   "metadata": {},
   "outputs": [],
   "source": [
    "crime_data['vict_sex'] = crime_data[\"vict_sex\"].replace(['H', 'N','-'], 'X')\n",
    "crime_data['vict_sex'].value_counts()"
   ]
  },
  {
   "cell_type": "code",
   "execution_count": null,
   "id": "efed1bd5-aa4f-4eb4-b3e7-5e18fa2ec7bd",
   "metadata": {},
   "outputs": [],
   "source": [
    "top_10_areas = crime_data['area_name'].value_counts().head(10).index.tolist()\n",
    "df_top_10_areas = crime_data[crime_data['area_name'].isin(top_10_areas)]\n",
    "\n",
    "fig, ax = plt.subplots(figsize=(12, 8))\n",
    "sns.countplot(x='area_name', hue='vict_sex', data=df_top_10_areas, palette='rocket', alpha=0.75)\n",
    "ax.set_title('Victims, by Sex, in the Top 10 Highest Crime Neighborhoods of Los Angeles (2010-2019)')\n",
    "ax.set_xlabel('Area Name', fontsize=15)\n",
    "plt.xticks(rotation=45) \n",
    "plt.show()"
   ]
  },
  {
   "cell_type": "code",
   "execution_count": null,
   "id": "296df411-40dc-4b7d-a036-d5994de6cb09",
   "metadata": {},
   "outputs": [],
   "source": [
    "victims = {\n",
    "      \"A\": \"Asian\",\n",
    "      \"B\": \"Black\",\n",
    "      \"C\": \"Chinese\",\n",
    "      \"D\": \"Cambodian\",\n",
    "      \"F\": \"Filipino\",\n",
    "      \"G\": \"Guamanian\",\n",
    "      \"H\": \"Hispanic/Latin/Mexican\",\n",
    "      \"I\": \"American Indian/Alaskan Native\",\n",
    "      \"J\": \"Japanese\",\n",
    "      \"K\": \"Korean\",\n",
    "      \"L\": \"Laotian\",\n",
    "      \"O\": \"Other\",\n",
    "      \"P\": \"Pacific Islander\",\n",
    "      \"S\": \"Samoan\",\n",
    "      \"U\": \"Hawaiian\",\n",
    "      \"V\": \"Vietnamese\",\n",
    "      \"W\": \"White\",\n",
    "      \"X\": \"Unknown\",\n",
    "      \"Z\": \"Asian Indian\"\n",
    "  }"
   ]
  },
  {
   "cell_type": "code",
   "execution_count": null,
   "id": "3bca2811-29e2-4e63-95f8-7cb30e5f4412",
   "metadata": {},
   "outputs": [],
   "source": [
    "plt.figure(figsize=(10, 6))\n",
    "sns.countplot(data=crime_data['vict_descent'].map(victims), order=crime_data['vict_descent'].map(victims).value_counts().index)\n",
    "plt.title('Distribution of Victims by Nations')\n",
    "plt.ylabel('Victim Nations')\n",
    "plt.xlabel('Number of Victims')\n",
    "plt.show()"
   ]
  },
  {
   "cell_type": "code",
   "execution_count": null,
   "id": "08d5e89b-cc77-42b5-b4e3-a500e0b8c457",
   "metadata": {},
   "outputs": [],
   "source": [
    "crime_data = crime_data.dropna(subset=['vict_sex', 'vict_descent'])"
   ]
  },
  {
   "cell_type": "code",
   "execution_count": null,
   "id": "15d6b205-f446-4fe6-aee0-137231f27964",
   "metadata": {},
   "outputs": [],
   "source": [
    "crime_data.shape"
   ]
  },
  {
   "cell_type": "code",
   "execution_count": null,
   "id": "7624db64-c648-4e81-a8d5-1b645388b222",
   "metadata": {},
   "outputs": [],
   "source": [
    "aggregated_data = crime_data.groupby(['lat', 'lon']).size().reset_index(name='crime_count')\n",
    "la_latitude = 34.052235\n",
    "la_longitude = -118.243683\n",
    "la_map = folium.Map(location=[la_latitude, la_longitude], zoom_start=10)\n",
    "\n",
    "# Create a HeatMap layer using the aggregated crime data\n",
    "heat_data = aggregated_data[['lat', 'lon', 'crime_count']].values.tolist()\n",
    "HeatMap(heat_data, radius=15).add_to(la_map)\n",
    "\n",
    "# Display the map\n",
    "la_map"
   ]
  },
  {
   "cell_type": "markdown",
   "id": "fa0ed334-9bcd-46f1-8bfe-e88c6a18fcdf",
   "metadata": {},
   "source": [
    "### Crime Prediction"
   ]
  },
  {
   "cell_type": "markdown",
   "id": "9207710a",
   "metadata": {},
   "source": [
    "Selecting features and the target variable"
   ]
  },
  {
   "cell_type": "code",
   "execution_count": null,
   "id": "004c38bb",
   "metadata": {},
   "outputs": [],
   "source": [
    "features = ['lat', 'lon', 'time_occ', 'area', 'year'] \n",
    "target = 'crm_cd'\n",
    "\n",
    "X = crime_data[features]\n",
    "y = crime_data[target]"
   ]
  },
  {
   "cell_type": "markdown",
   "id": "24d6e3dd",
   "metadata": {},
   "source": [
    "Applying get_dummies to convert categorical features into dummy/indicator variables"
   ]
  },
  {
   "cell_type": "code",
   "execution_count": null,
   "id": "a9017b58",
   "metadata": {},
   "outputs": [],
   "source": [
    "X = pd.get_dummies(X, columns=['time_occ', 'area', 'year'])"
   ]
  },
  {
   "cell_type": "markdown",
   "id": "7657f084",
   "metadata": {},
   "source": [
    "Preprocessing for continuous features"
   ]
  },
  {
   "cell_type": "code",
   "execution_count": null,
   "id": "53d8b6b5",
   "metadata": {},
   "outputs": [],
   "source": [
    "continuous_features = ['lat', 'lon']\n",
    "continuous_transformer = StandardScaler()\n"
   ]
  },
  {
   "cell_type": "markdown",
   "id": "f3ce6238",
   "metadata": {},
   "source": [
    "Creating a ColumnTransformer that will apply the transformations to the respective features"
   ]
  },
  {
   "cell_type": "code",
   "execution_count": null,
   "id": "945f63cd",
   "metadata": {},
   "outputs": [],
   "source": [
    "preprocessor = ColumnTransformer(\n",
    "    transformers=[\n",
    "        ('cont', continuous_transformer, continuous_features)])\n"
   ]
  },
  {
   "cell_type": "markdown",
   "id": "28b6046a",
   "metadata": {},
   "source": [
    "Defining and training the Random Forest model"
   ]
  },
  {
   "cell_type": "code",
   "execution_count": null,
   "id": "bc1aec4c",
   "metadata": {},
   "outputs": [],
   "source": [
    "rf = Pipeline(steps=[('preprocessor', preprocessor),\n",
    "                     ('classifier', RandomForestClassifier(n_jobs=2, verbose=2, max_depth=5))])\n"
   ]
  },
  {
   "cell_type": "markdown",
   "id": "bcf71d32",
   "metadata": {},
   "source": [
    "Defining and training the Decision Tree model"
   ]
  },
  {
   "cell_type": "code",
   "execution_count": null,
   "id": "dad53dbf",
   "metadata": {},
   "outputs": [],
   "source": [
    "dt = Pipeline(steps=[('preprocessor', preprocessor),\n",
    "                     ('classifier', DecisionTreeClassifier(max_depth=5))], verbose=3)\n"
   ]
  },
  {
   "cell_type": "markdown",
   "id": "c2556017",
   "metadata": {},
   "source": [
    "Splitting the dataset into training and testing sets"
   ]
  },
  {
   "cell_type": "code",
   "execution_count": null,
   "id": "3e5971c8",
   "metadata": {},
   "outputs": [],
   "source": [
    "X_train, X_test, y_train, y_test = train_test_split(X, y, test_size=0.3, random_state=42)\n"
   ]
  },
  {
   "cell_type": "markdown",
   "id": "210486d2",
   "metadata": {},
   "source": [
    "Training the Random Forest model and calculating cross-validation scores"
   ]
  },
  {
   "cell_type": "code",
   "execution_count": null,
   "id": "a8a1e5c4",
   "metadata": {},
   "outputs": [],
   "source": [
    "rf.fit(X_train, y_train)\n",
    "rf_cross_val_scores = cross_val_score(rf, X_train, y_train, cv=5)\n",
    "print(f\"Cross Validation Accuracy Rates: {rf_cross_val_scores}\")\n",
    "print(f\"Average Cross Validation Accuracy: {np.mean(rf_cross_val_scores)}\")\n"
   ]
  },
  {
   "cell_type": "markdown",
   "id": "d9770c2b",
   "metadata": {},
   "source": [
    "Training the Decision Tree model and calculating cross-validation scores"
   ]
  },
  {
   "cell_type": "code",
   "execution_count": null,
   "id": "558d5041",
   "metadata": {},
   "outputs": [],
   "source": [
    "dt.fit(X_train, y_train)\n",
    "dt_cross_val_scores = cross_val_score(dt, X_train, y_train, cv=5)\n",
    "print(f\"Cross Validation Accuracy Rates: {dt_cross_val_scores}\")\n",
    "print(f\"Average Cross Validation Accuracy: {np.mean(dt_cross_val_scores)}\")\n"
   ]
  },
  {
   "cell_type": "markdown",
   "id": "7c58535c",
   "metadata": {},
   "source": [
    "Evaluating the Random Forest model"
   ]
  },
  {
   "cell_type": "code",
   "execution_count": null,
   "id": "1259f2f3",
   "metadata": {},
   "outputs": [],
   "source": [
    "rf_y_pred = rf.predict(X_test)\n",
    "print(f\"Random Forest Model Accuracy: {accuracy_score(y_test, rf_y_pred)}\")\n",
    "print(classification_report(y_test, rf_y_pred))\n"
   ]
  },
  {
   "cell_type": "markdown",
   "id": "ec30632f",
   "metadata": {},
   "source": [
    "Evaluating the Decision Tree model"
   ]
  },
  {
   "cell_type": "code",
   "execution_count": null,
   "id": "ccef0dcc",
   "metadata": {},
   "outputs": [],
   "source": [
    "dt_y_pred = dt.predict(X_test)\n",
    "print(f\"Decision Tree Model Accuracy: {accuracy_score(y_test, dt_y_pred)}\")\n",
    "print(classification_report(y_test, dt_y_pred))\n"
   ]
  }
 ],
 "metadata": {
  "kernelspec": {
   "display_name": "Python 3 (ipykernel)",
   "language": "python",
   "name": "python3"
  },
  "language_info": {
   "codemirror_mode": {
    "name": "ipython",
    "version": 3
   },
   "file_extension": ".py",
   "mimetype": "text/x-python",
   "name": "python",
   "nbconvert_exporter": "python",
   "pygments_lexer": "ipython3",
   "version": "3.8.9"
  }
 },
 "nbformat": 4,
 "nbformat_minor": 5
}
