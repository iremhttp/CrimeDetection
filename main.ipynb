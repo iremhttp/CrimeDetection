{
 "cells": [
  {
   "cell_type": "markdown",
   "id": "0eb85f30-a9ca-4809-8cae-cd5973b480a3",
   "metadata": {},
   "source": [
    "# CRIME DETECTION SYSTEM"
   ]
  },
  {
   "cell_type": "markdown",
   "id": "3ba61ce9-65e4-4336-acaf-0564980f6818",
   "metadata": {},
   "source": [
    "## Programming for AI TABA"
   ]
  },
  {
   "cell_type": "code",
   "execution_count": 6,
   "id": "ac3618db-3935-44d5-bf59-0ee6bc1455b3",
   "metadata": {},
   "outputs": [],
   "source": [
    "import pandas as pd\n",
    "import numpy as np\n",
    "import matplotlib.pyplot as plt\n",
    "import seaborn as sns\n",
    "from wordcloud import WordCloud\n",
    "import folium\n",
    "import pymysql"
   ]
  },
  {
   "cell_type": "markdown",
   "id": "c00d7592",
   "metadata": {},
   "source": [
    "### DB Connection"
   ]
  },
  {
   "cell_type": "code",
   "execution_count": null,
   "id": "573614a1-fb51-402c-8f7d-afa3f5a20b24",
   "metadata": {},
   "outputs": [],
   "source": [
    "host = \"nci_db\"\n",
    "user = \"root\"\n",
    "password = \"root\"\n",
    "database = \"crime_detection\"\n",
    "\n",
    "connection = pymysql.connect(host=host, user=user, password=password, db=database)"
   ]
  },
  {
   "cell_type": "markdown",
   "id": "ebbeb79a-e215-4178-bbc8-421a83bdc563",
   "metadata": {},
   "source": [
    "### Load Data"
   ]
  },
  {
   "cell_type": "code",
   "execution_count": null,
   "id": "134012ed",
   "metadata": {},
   "outputs": [],
   "source": [
    "#crime_data = pd.read_csv('Crime_Data_from_2010_to_2019.csv')\n",
    "\n",
    "sql_query = \"SELECT * FROM raw_data\"\n",
    "crime_data = pd.read_sql(sql_query, connection)\n",
    "connection.close()"
   ]
  },
  {
   "cell_type": "code",
   "execution_count": null,
   "id": "6c006ddc",
   "metadata": {},
   "outputs": [],
   "source": [
    "\n",
    "crime_data.head()"
   ]
  },
  {
   "cell_type": "code",
   "execution_count": null,
   "id": "e1af819b-a753-4027-869d-97249b1fbe95",
   "metadata": {},
   "outputs": [],
   "source": [
    "crime_data.tail()"
   ]
  },
  {
   "cell_type": "code",
   "execution_count": null,
   "id": "b6d93720-fb14-4459-b1c2-fefb572a4f36",
   "metadata": {},
   "outputs": [],
   "source": [
    "print(crime_data.columns)"
   ]
  },
  {
   "cell_type": "code",
   "execution_count": null,
   "id": "63292729-f78e-4009-8746-93e9aa1aa51f",
   "metadata": {},
   "outputs": [],
   "source": [
    "crime_data.info()"
   ]
  },
  {
   "cell_type": "markdown",
   "id": "2479a7bc-5000-49b6-be36-5dd7fdfe21e0",
   "metadata": {},
   "source": [
    "The columns of the dataset are:\n",
    "1. DR_NO: Report number for the incident (int64)\n",
    "2. Date Rptd: Date the incident was reported (object, might need to be converted to a datetime format)\n",
    "3. DATE OCC: Date of occurrence of the incident (object, might need to be converted to a datetime format)\n",
    "4. TIME OCC: Time of occurrence of the incident (int64)\n",
    "5. AREA: Area code related to the incident (int64)\n",
    "6. AREA NAME: Name of the area related to the incident (object)\n",
    "7. Rpt Dist No: Report district number (int64)\n",
    "8. Part 1-2: Classification of the incident (int64)\n",
    "9. Crm Cd: Crime code (int64)\n",
    "10. Crm Cd Desc: Description of the crime code (object)\n",
    "11. Mocodes: Modus operandi codes (object)\n",
    "12. Vict Age: Age of the victim (int64)\n",
    "13. Vict Sex: Sex of the victim (object)\n",
    "14. Vict Descent: Descent of the victim (object)\n",
    "15. Premis Cd: Premises code (float64)\n",
    "16. Premis Desc: Description of the premises (object)\n",
    "17. Weapon Used Cd: Weapon code used (float64)\n",
    "18. Weapon Desc: Description of the weapon used (object)\n",
    "19. Status: Status of the incident (object)\n",
    "20. Status Desc: Description of the status (object)\n",
    "21. Crm Cd 1-4: Additional crime codes (float64)\n",
    "22. LOCATION: Location of the incident (object)\n",
    "23. Cross Street: Cross street of the incident (object)\n",
    "24. LAT: Latitude coordinates (float64)\n",
    "25. LON: Longitude coordinates (float64)"
   ]
  },
  {
   "cell_type": "code",
   "execution_count": null,
   "id": "778c13db-4502-4c93-be32-33f1d6bf025b",
   "metadata": {},
   "outputs": [],
   "source": [
    "crime_data.shape"
   ]
  },
  {
   "cell_type": "code",
   "execution_count": null,
   "id": "583d9a66-0e36-4aeb-b790-5d2e08ae4378",
   "metadata": {},
   "outputs": [],
   "source": [
    "crime_data.isnull().sum()"
   ]
  },
  {
   "cell_type": "markdown",
   "id": "14bd081b-113d-42ce-af7f-946953fd0111",
   "metadata": {},
   "source": [
    "### Preprocessing & Visualisation"
   ]
  },
  {
   "cell_type": "markdown",
   "id": "5df3acb3-ab16-4162-8f8e-23f16e4d8dce",
   "metadata": {},
   "source": [
    "#### Date and Time"
   ]
  },
  {
   "cell_type": "code",
   "execution_count": null,
   "id": "655468a9-c8d7-4aee-807c-a7a7e4cf24bf",
   "metadata": {},
   "outputs": [],
   "source": [
    "crime_data.head()"
   ]
  },
  {
   "cell_type": "code",
   "execution_count": null,
   "id": "16d425fd-e705-4216-a6cf-b55bc295ef60",
   "metadata": {},
   "outputs": [],
   "source": [
    "# Stripping leading/trailing whitespaces from selected columns\n",
    "columns_to_strip = [\n",
    "    'DR_NO',  'DATE OCC', 'TIME OCC',  'AREA NAME', 'Crm Cd Desc', 'Mocodes',\n",
    "    'Vict Sex', 'Vict Descent', 'Premis Desc', 'Weapon Desc', 'Status', 'Status Desc', 'LOCATION',\n",
    "    'Cross Street'\n",
    "]\n",
    "\n",
    "# Ensure all columns to strip are converted to string type to avoid issues with NaN/None values\n",
    "for column in columns_to_strip:\n",
    "    crime_data[column] = crime_data[column].astype(str).str.strip()\n",
    "\n",
    "# Splitting 'Date Rptd' and 'DATE OCC' columns into date and time components\n",
    "crime_data['date_time_rptd'] = crime_data['Date Rptd'].str.split()\n",
    "crime_data['date_rptd'] = crime_data['date_time_rptd'].apply(lambda x: x[0] if isinstance(x, list) else None)\n",
    "crime_data['time_rptd'] = crime_data['date_time_rptd'].apply(lambda x: x[1] if isinstance(x, list) and len(x) > 1 else None)\n",
    "\n",
    "crime_data['date_time_occ'] = crime_data['DATE OCC'].str.split()\n",
    "crime_data['date_occ'] = crime_data['date_time_occ'].apply(lambda x: x[0] if isinstance(x, list) else None)\n",
    "crime_data['time_occ'] = crime_data['date_time_occ'].apply(lambda x: x[1] if isinstance(x, list) and len(x) > 1 else None)\n",
    "\n",
    "crime_data.head()"
   ]
  },
  {
   "cell_type": "code",
   "execution_count": null,
   "id": "a34a1ea4-3423-40ad-bb8a-ba158fd72f2a",
   "metadata": {},
   "outputs": [],
   "source": [
    "# Extracting year from 'Date Occurred' and creating a new 'Date' column\n",
    "crime_data['date'] = pd.to_datetime(crime_data['date_occ']).dt.year\n",
    "\n",
    "crime_data.head()"
   ]
  },
  {
   "cell_type": "code",
   "execution_count": null,
   "id": "b3658b8e-9e6a-4e8c-9524-524650494ee0",
   "metadata": {},
   "outputs": [],
   "source": [
    "# Dropping the columns\n",
    "columns_to_drop = ['date_time_rptd', 'date_time_occ', 'Date Rptd', 'DATE OCC']\n",
    "crime_data.drop(columns=columns_to_drop, inplace=True, axis=1)\n",
    "\n",
    "# Changing the column names\n",
    "crime_data.rename({'DR_NO': 'dr_no', 'TIME OCC': 'time_occ_code'}, axis=1, inplace=True)\n",
    "\n",
    "crime_data.head()"
   ]
  },
  {
   "cell_type": "code",
   "execution_count": null,
   "id": "3d0461e9-0b58-40bd-8a94-e65356c273f7",
   "metadata": {},
   "outputs": [],
   "source": [
    "# Filter the data for the years 2010 to 2019\n",
    "crime_data_2010_2019 = crime_data[(crime_data['date'] >= 2010) & (crime_data['date'] <= 2019)]\n",
    "\n",
    "# Group by year and count the total criminal cases for each year\n",
    "crime_by_year = crime_data_2010_2019.groupby('date').size()\n",
    "\n",
    "plt.plot(crime_by_year.index, crime_by_year.values, marker='o', linestyle='-', color = 'cadetblue')\n",
    "plt.title('Total Criminal Cases from 2010 to 2019')\n",
    "plt.xlabel('Year')\n",
    "plt.ylabel('Total Criminal Cases')\n",
    "plt.grid(True)\n",
    "plt.xticks(crime_by_year.index)\n",
    "plt.tight_layout()\n",
    "plt.show()"
   ]
  },
  {
   "cell_type": "code",
   "execution_count": null,
   "id": "2d05968b-9dea-4e41-94e6-1494f4fe6d03",
   "metadata": {},
   "outputs": [],
   "source": [
    "crime_data['date_occ'] = pd.to_datetime(crime_data['date_occ'])\n",
    "crime_data['month_occ'] = crime_data['date_occ'].dt.month\n",
    "crimes_per_month = crime_data['month_occ'].value_counts().sort_index()\n",
    "\n",
    "num_months = len(crimes_per_month)\n",
    "palette = sns.color_palette(\"husl\", num_months)\n",
    "plt.figure(figsize=(10, 6))\n",
    "crimes_per_month.plot(kind='bar', color=palette)\n",
    "plt.title('Number of Crimes per Month')\n",
    "plt.xlabel('Month')\n",
    "plt.ylabel('Number of Crimes')\n",
    "plt.xticks(rotation=0)  # Keep x-axis labels vertical\n",
    "plt.show()"
   ]
  },
  {
   "cell_type": "markdown",
   "id": "5ca4e6da-2807-4a74-b26f-f233fc6b50cd",
   "metadata": {},
   "source": [
    "#### Area"
   ]
  },
  {
   "cell_type": "code",
   "execution_count": null,
   "id": "7a804ba5-6643-4eaa-ae86-a7a9d85e1b07",
   "metadata": {},
   "outputs": [],
   "source": [
    "# Changing the column names\n",
    "crime_data.rename({'AREA': 'area', 'AREA NAME': 'area_name', 'LOCATION':'location_name', 'Cross Street':'cross_street', \n",
    "                   'LAT': 'lat_coor', 'LON':'lon_coor', 'Rpt Dist No':'rpt_dist_no', 'Part 1-2':'part'}, axis=1, inplace=True)\n",
    "crime_data.head()"
   ]
  },
  {
   "cell_type": "code",
   "execution_count": null,
   "id": "b4e11d0d-3169-4116-9e68-4a3e26776411",
   "metadata": {},
   "outputs": [],
   "source": [
    "# Grouping data by 'AREA NAME' and counting occurrences\n",
    "crime_by_area = crime_data['area_name'].value_counts()\n",
    "\n",
    "crime_by_area.plot(kind='bar', color='yellowgreen')\n",
    "plt.title('Crime Distribution by Area')\n",
    "plt.xlabel('Area')\n",
    "plt.ylabel('Number of Crimes')\n",
    "plt.xticks(rotation=45, ha='right') \n",
    "plt.tight_layout()\n",
    "plt.show()"
   ]
  },
  {
   "cell_type": "markdown",
   "id": "b53a316f-b917-4ecb-a4b6-46c53a43fca0",
   "metadata": {},
   "source": [
    "#### Crime"
   ]
  },
  {
   "cell_type": "code",
   "execution_count": null,
   "id": "eade5e01-e892-4a6b-abbf-4ff4af47eee9",
   "metadata": {},
   "outputs": [],
   "source": [
    "columns_to_drop = ['Crm Cd 1', 'Crm Cd 2', 'Crm Cd 3', 'Crm Cd 4', 'Mocodes'] \n",
    "crime_data.drop(columns=columns_to_drop, inplace=True)"
   ]
  },
  {
   "cell_type": "code",
   "execution_count": null,
   "id": "f8383777-dae3-46d1-8814-891485c3da09",
   "metadata": {},
   "outputs": [],
   "source": [
    "crime_data.rename({'Crm Cd': 'crm_code', 'Crm Cd Desc': 'crm_desc', \n",
    "                 'Premis Cd':'premis_code' ,'Premis Desc':'premis_desc', 'Weapon Used Cd':'weapon_code',\n",
    "                  'Weapon Desc':'weapon_desc', 'Status':'status', 'Status Desc':'status_desc' }, axis=1, inplace=True)\n",
    "\n",
    "crime_data['weapon_desc'] = crime_data['weapon_desc'].replace('nan', np.nan)\n",
    "crime_data.head()"
   ]
  },
  {
   "cell_type": "code",
   "execution_count": null,
   "id": "8895c165-3d2b-49ef-a3aa-291331c5919a",
   "metadata": {},
   "outputs": [],
   "source": [
    "top_crime_types = crime_data['crm_desc'].value_counts().head(10)\n",
    "\n",
    "plt.figure(figsize=(10, 6))\n",
    "top_crime_types.plot(kind='barh', color='orange')\n",
    "plt.title('Top 10 Crimes in LA')\n",
    "plt.xlabel('Frequency')\n",
    "plt.ylabel('Crime Type')\n",
    "plt.gca().invert_yaxis()\n",
    "plt.show()"
   ]
  },
  {
   "cell_type": "code",
   "execution_count": null,
   "id": "609ced16-d72d-4637-bedd-e4e2951f4f2e",
   "metadata": {},
   "outputs": [],
   "source": [
    "crime_data['weapon_desc'].value_counts()"
   ]
  },
  {
   "cell_type": "code",
   "execution_count": null,
   "id": "73b16a49-b365-45b2-9028-54530f035854",
   "metadata": {},
   "outputs": [],
   "source": [
    "weapons_text = ' '.join(crime_data['weapon_desc'].dropna())\n",
    "wc = WordCloud(width=800, height=400, background_color='white').generate(weapons_text)\n",
    "\n",
    "plt.imshow(wc, interpolation='bilinear')\n",
    "plt.axis('off')\n",
    "plt.title('Word Cloud of Weapons Used')\n",
    "plt.show()"
   ]
  },
  {
   "cell_type": "markdown",
   "id": "b5301968-5966-4fc8-8cd7-f3b9f60962c4",
   "metadata": {},
   "source": [
    "#### Victim"
   ]
  },
  {
   "cell_type": "code",
   "execution_count": null,
   "id": "85f24ed7-97a8-4e19-9a14-4aa37323399a",
   "metadata": {},
   "outputs": [],
   "source": [
    "crime_data.rename({'Vict Age': 'vict_age', 'Vict Sex': 'vict_sex', 'Vict Descent':'vict_des' }, axis=1, inplace=True)\n",
    "crime_data.head()"
   ]
  },
  {
   "cell_type": "code",
   "execution_count": null,
   "id": "ab66058b-7cb3-4262-92b0-1c1747b50c29",
   "metadata": {},
   "outputs": [],
   "source": [
    "# Calculate the mean of non-zero positive ages\n",
    "mean_age = np.mean(crime_data.loc[(crime_data['vict_age'] > 0), 'vict_age'])\n",
    "crime_data.loc[(crime_data['vict_age'] <= 0), 'vict_age'] = mean_age\n",
    "crime_data['vict_age'] = crime_data['vict_age'].astype(int)\n",
    "\n",
    "crime_data.head()"
   ]
  },
  {
   "cell_type": "code",
   "execution_count": null,
   "id": "151e50ad-d2bc-4bdd-b8df-0018c62d21db",
   "metadata": {},
   "outputs": [],
   "source": [
    "crime_data['vict_sex'].unique()"
   ]
  },
  {
   "cell_type": "code",
   "execution_count": null,
   "id": "57db8683-5057-4bc9-a0b6-672731dde7cf",
   "metadata": {},
   "outputs": [],
   "source": [
    "crime_data['vict_sex'] = crime_data['vict_sex'].replace('nan', np.nan)"
   ]
  },
  {
   "cell_type": "code",
   "execution_count": null,
   "id": "6fd1491e-b2a1-4258-82c8-97a2271124d9",
   "metadata": {},
   "outputs": [],
   "source": [
    "plt.figure(figsize=(8, 6))\n",
    "crime_data['vict_sex'].value_counts().plot(kind='pie', autopct='%1.1f%%', colors=['skyblue', 'red', 'orange','purple', 'pink','green'])\n",
    "plt.title('Crime Distribution by Sex of Victims')\n",
    "plt.ylabel('')\n",
    "plt.legend(title='Victim Sex', loc='upper right')\n",
    "plt.show()"
   ]
  },
  {
   "cell_type": "code",
   "execution_count": null,
   "id": "abf2a706-dc69-42b4-8700-6910d2cf386c",
   "metadata": {},
   "outputs": [],
   "source": [
    "crime_data['vict_sex'] = crime_data[\"vict_sex\"].replace(['H', 'N','-'], 'X')\n",
    "crime_data['vict_sex'].value_counts()"
   ]
  },
  {
   "cell_type": "code",
   "execution_count": null,
   "id": "efed1bd5-aa4f-4eb4-b3e7-5e18fa2ec7bd",
   "metadata": {},
   "outputs": [],
   "source": [
    "top_10_areas = crime_data['area_name'].value_counts().head(10).index.tolist()\n",
    "df_top_10_areas = crime_data[crime_data['area_name'].isin(top_10_areas)]\n",
    "\n",
    "fig, ax = plt.subplots(figsize=(12, 8))\n",
    "sns.countplot(x='area_name', hue='vict_sex', data=df_top_10_areas, palette='rocket', alpha=0.75)\n",
    "ax.set_title('Victims, by Sex, in the Top 10 Highest Crime Neighborhoods of Los Angeles (2010-2019)')\n",
    "ax.set_xlabel('Area Name', fontsize=15)\n",
    "plt.xticks(rotation=45) \n",
    "plt.show()"
   ]
  },
  {
   "cell_type": "code",
   "execution_count": null,
   "id": "4764f3f9-d482-48a4-a45b-174d04fb9294",
   "metadata": {},
   "outputs": [],
   "source": [
    "crime_data['vict_des'].unique()"
   ]
  },
  {
   "cell_type": "code",
   "execution_count": null,
   "id": "66a4e5c1-1781-43e8-b109-64c43c465ff5",
   "metadata": {},
   "outputs": [],
   "source": [
    "crime_data['vict_des'] = crime_data['vict_des'].replace('nan', np.nan)\n",
    "crime_data['vict_des'] = crime_data['vict_des'].replace('-', np.nan)"
   ]
  },
  {
   "cell_type": "code",
   "execution_count": null,
   "id": "296df411-40dc-4b7d-a036-d5994de6cb09",
   "metadata": {},
   "outputs": [],
   "source": [
    "victims = {\n",
    "      \"A\": \"Asian\",\n",
    "      \"B\": \"Black\",\n",
    "      \"C\": \"Chinese\",\n",
    "      \"D\": \"Cambodian\",\n",
    "      \"F\": \"Filipino\",\n",
    "      \"G\": \"Guamanian\",\n",
    "      \"H\": \"Hispanic/Latin/Mexican\",\n",
    "      \"I\": \"American Indian/Alaskan Native\",\n",
    "      \"J\": \"Japanese\",\n",
    "      \"K\": \"Korean\",\n",
    "      \"L\": \"Laotian\",\n",
    "      \"O\": \"Other\",\n",
    "      \"P\": \"Pacific Islander\",\n",
    "      \"S\": \"Samoan\",\n",
    "      \"U\": \"Hawaiian\",\n",
    "      \"V\": \"Vietnamese\",\n",
    "      \"W\": \"White\",\n",
    "      \"X\": \"Unknown\",\n",
    "      \"Z\": \"Asian Indian\"\n",
    "  }"
   ]
  },
  {
   "cell_type": "code",
   "execution_count": null,
   "id": "3bca2811-29e2-4e63-95f8-7cb30e5f4412",
   "metadata": {},
   "outputs": [],
   "source": [
    "plt.figure(figsize=(10, 6))\n",
    "sns.countplot(x='vict_des', data=crime_data, order=crime_data['vict_des'].value_counts().index)\n",
    "plt.title('Distribution of Victims by Nations')\n",
    "plt.xlabel('Victim Nations')\n",
    "plt.ylabel('Number of Victims')\n",
    "plt.xticks(rotation=45)  \n",
    "plt.show()"
   ]
  },
  {
   "cell_type": "code",
   "execution_count": null,
   "id": "08d5e89b-cc77-42b5-b4e3-a500e0b8c457",
   "metadata": {},
   "outputs": [],
   "source": [
    "crime_data = crime_data.dropna(subset=['vict_sex', 'vict_des'])"
   ]
  },
  {
   "cell_type": "code",
   "execution_count": null,
   "id": "15d6b205-f446-4fe6-aee0-137231f27964",
   "metadata": {},
   "outputs": [],
   "source": [
    "crime_data.shape"
   ]
  },
  {
   "cell_type": "code",
   "execution_count": null,
   "id": "ede3a32d-7118-4b88-97a8-ca7f6464a239",
   "metadata": {},
   "outputs": [],
   "source": [
    "la_latitude =   34.052235\n",
    "la_longitude = -118.243683\n",
    "\n",
    "la_map = folium.Map(location=[la_latitude, la_longitude], zoom_start=10)\n",
    "la_map"
   ]
  },
  {
   "cell_type": "code",
   "execution_count": null,
   "id": "7624db64-c648-4e81-a8d5-1b645388b222",
   "metadata": {},
   "outputs": [],
   "source": [
    "aggregated_data = crime_data.groupby(['lat_coor', 'lon_coor']).size().reset_index(name='crime_count')\n",
    "la_latitude = 34.052235\n",
    "la_longitude = -118.243683\n",
    "la_map = folium.Map(location=[la_latitude, la_longitude], zoom_start=10)\n",
    "\n",
    "# Create a HeatMap layer using the aggregated crime data\n",
    "heat_data = aggregated_data[['lat_coor', 'lon_coor', 'crime_count']].values.tolist()\n",
    "folium.plugin.HeatMap(heat_data, radius=15).add_to(la_map)\n",
    "\n",
    "# Display the map\n",
    "la_map"
   ]
  },
  {
   "cell_type": "code",
   "execution_count": null,
   "id": "0ac05c49-1595-4988-90f7-725c7445f62f",
   "metadata": {},
   "outputs": [],
   "source": []
  }
 ],
 "metadata": {
  "kernelspec": {
   "display_name": "Python 3 (ipykernel)",
   "language": "python",
   "name": "python3"
  },
  "language_info": {
   "codemirror_mode": {
    "name": "ipython",
    "version": 3
   },
   "file_extension": ".py",
   "mimetype": "text/x-python",
   "name": "python",
   "nbconvert_exporter": "python",
   "pygments_lexer": "ipython3",
   "version": "3.8.9"
  }
 },
 "nbformat": 4,
 "nbformat_minor": 5
}
